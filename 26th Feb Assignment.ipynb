{
 "cells": [
  {
   "cell_type": "markdown",
   "id": "f563a548-a893-4da0-90f7-ef1b484cdd95",
   "metadata": {},
   "source": [
    "# 26th Feb Assignment"
   ]
  },
  {
   "cell_type": "code",
   "execution_count": null,
   "id": "63a4a9ab-c198-4cad-97ca-0af7a6cadf7f",
   "metadata": {},
   "outputs": [],
   "source": []
  },
  {
   "cell_type": "markdown",
   "id": "0002de25-b186-4b65-b364-75bb2be1552d",
   "metadata": {},
   "source": [
    "## Q1. Is there any difference in the data type of variables list_ and array_list? If there is then write a code to print the data types of both the variables.\n"
   ]
  },
  {
   "cell_type": "code",
   "execution_count": 2,
   "id": "9a63ea19-0fbe-41b4-be1e-10f2be1a6266",
   "metadata": {},
   "outputs": [],
   "source": [
    "import numpy as np\n",
    "list_ = [1,2,3,4,5]\n",
    "array_list = np.array(object = list_)"
   ]
  },
  {
   "cell_type": "code",
   "execution_count": 3,
   "id": "91c54ac3-0d90-4259-91fd-5ff1ecf51885",
   "metadata": {},
   "outputs": [
    {
     "data": {
      "text/plain": [
       "list"
      ]
     },
     "execution_count": 3,
     "metadata": {},
     "output_type": "execute_result"
    }
   ],
   "source": [
    "type(list_)"
   ]
  },
  {
   "cell_type": "code",
   "execution_count": 4,
   "id": "e68754b6-5026-4ef6-9e62-7b42d0ca7b8f",
   "metadata": {},
   "outputs": [
    {
     "data": {
      "text/plain": [
       "numpy.ndarray"
      ]
     },
     "execution_count": 4,
     "metadata": {},
     "output_type": "execute_result"
    }
   ],
   "source": [
    "type(array_list)"
   ]
  },
  {
   "cell_type": "code",
   "execution_count": null,
   "id": "9e8c4310-d03b-4fca-b149-8fdf9c89c78c",
   "metadata": {},
   "outputs": [],
   "source": []
  },
  {
   "cell_type": "markdown",
   "id": "0acb8274-bfc8-4e03-80ae-8eb0da60edd2",
   "metadata": {},
   "source": [
    "## Q2. Write a code to print the data type of each and every element of both the variables list_ and arra_list."
   ]
  },
  {
   "cell_type": "code",
   "execution_count": 7,
   "id": "9be8550e-9026-4c10-aef1-21ee584e4d43",
   "metadata": {},
   "outputs": [
    {
     "name": "stdout",
     "output_type": "stream",
     "text": [
      "<class 'int'>\n",
      "<class 'int'>\n",
      "<class 'int'>\n",
      "<class 'int'>\n",
      "<class 'int'>\n"
     ]
    }
   ],
   "source": [
    "# Data type of every element of list.\n",
    "\n",
    "for i in list_ :\n",
    "    print(type(i))"
   ]
  },
  {
   "cell_type": "code",
   "execution_count": 8,
   "id": "bd22c093-37a6-48ed-8e27-1d9120538e72",
   "metadata": {},
   "outputs": [
    {
     "name": "stdout",
     "output_type": "stream",
     "text": [
      "<class 'numpy.int64'>\n",
      "<class 'numpy.int64'>\n",
      "<class 'numpy.int64'>\n",
      "<class 'numpy.int64'>\n",
      "<class 'numpy.int64'>\n"
     ]
    }
   ],
   "source": [
    "# Data type of every element of array.\n",
    "\n",
    "for i in array_list :\n",
    "    print(type(i))"
   ]
  },
  {
   "cell_type": "code",
   "execution_count": null,
   "id": "3d134862-2ac6-47f9-8842-3ac40ccec0f5",
   "metadata": {},
   "outputs": [],
   "source": []
  },
  {
   "cell_type": "markdown",
   "id": "0c7d0044-bc01-410e-a6d2-7a671deff5da",
   "metadata": {},
   "source": [
    "## Q3. Considering the following changes in the variable, array_list:\n"
   ]
  },
  {
   "cell_type": "code",
   "execution_count": 9,
   "id": "dea7bdd5-c2c5-46d0-9810-5571bac1a56c",
   "metadata": {},
   "outputs": [],
   "source": [
    "array_list = np.array(object = list_, dtype = int)"
   ]
  },
  {
   "cell_type": "code",
   "execution_count": 10,
   "id": "a7b36e6a-d4cb-4b0e-97f0-8ae87cee3775",
   "metadata": {},
   "outputs": [
    {
     "name": "stdout",
     "output_type": "stream",
     "text": [
      "<class 'numpy.int64'>\n",
      "<class 'numpy.int64'>\n",
      "<class 'numpy.int64'>\n",
      "<class 'numpy.int64'>\n",
      "<class 'numpy.int64'>\n"
     ]
    }
   ],
   "source": [
    "for i in array_list :\n",
    "    print(type(i))"
   ]
  },
  {
   "cell_type": "code",
   "execution_count": null,
   "id": "afd43652-2b3c-4079-827b-5700bd62275e",
   "metadata": {},
   "outputs": [],
   "source": []
  },
  {
   "cell_type": "markdown",
   "id": "b00c8174-d3a7-48c4-a472-edb0a181bea5",
   "metadata": {},
   "source": [
    "## Q4. Write a code to find the following characteristics of variable, num_array:\n",
    "(i) shape\n",
    "\n",
    "(ii) size"
   ]
  },
  {
   "cell_type": "code",
   "execution_count": 11,
   "id": "23cc5ac1-6861-418d-8880-130b2696486b",
   "metadata": {},
   "outputs": [],
   "source": [
    "import numpy as np\n",
    "num_list = [ [ 1 , 2 , 3 ] , [ 4 , 5 , 6 ] ]\n",
    "num_array = np.array(object = num_list)"
   ]
  },
  {
   "cell_type": "code",
   "execution_count": 16,
   "id": "7154fe73-a8f1-494b-adbd-3da9ea21f0a5",
   "metadata": {},
   "outputs": [
    {
     "data": {
      "text/plain": [
       "(2, 3)"
      ]
     },
     "execution_count": 16,
     "metadata": {},
     "output_type": "execute_result"
    }
   ],
   "source": [
    "# Shape\n",
    "\n",
    "num_array.shape"
   ]
  },
  {
   "cell_type": "code",
   "execution_count": 17,
   "id": "28d0d135-f1e2-4464-a08e-ce0ba0bda5c0",
   "metadata": {},
   "outputs": [
    {
     "data": {
      "text/plain": [
       "6"
      ]
     },
     "execution_count": 17,
     "metadata": {},
     "output_type": "execute_result"
    }
   ],
   "source": [
    "# Size\n",
    "\n",
    "num_array.size"
   ]
  },
  {
   "cell_type": "code",
   "execution_count": null,
   "id": "dfb8a157-4ba4-4aa4-90b3-bac89af1201f",
   "metadata": {},
   "outputs": [],
   "source": []
  },
  {
   "cell_type": "markdown",
   "id": "addc81c0-5169-4eb8-acbb-d29680d082b9",
   "metadata": {},
   "source": [
    "## Q5. Write a code to create numpy array of 3*3 matrix containing zeros only, using a numpy array creation function.\n"
   ]
  },
  {
   "cell_type": "code",
   "execution_count": 19,
   "id": "31b3cb26-ea59-417a-94d6-0ba8fb8e37a7",
   "metadata": {},
   "outputs": [
    {
     "data": {
      "text/plain": [
       "array([[0., 0., 0.],\n",
       "       [0., 0., 0.],\n",
       "       [0., 0., 0.]])"
      ]
     },
     "execution_count": 19,
     "metadata": {},
     "output_type": "execute_result"
    }
   ],
   "source": [
    "np.zeros(shape=(3,3))"
   ]
  },
  {
   "cell_type": "code",
   "execution_count": null,
   "id": "87c20e6a-26af-4ffa-a10d-f4383a147c90",
   "metadata": {},
   "outputs": [],
   "source": []
  },
  {
   "cell_type": "markdown",
   "id": "41790f58-aa5d-4bc7-99f3-4fec0e1fb996",
   "metadata": {},
   "source": [
    "## Q6. Create an identity matrix of shape (5,5) using numpy functions?"
   ]
  },
  {
   "cell_type": "code",
   "execution_count": 24,
   "id": "93a82a7b-094a-4ec6-856d-0648d9d73d13",
   "metadata": {},
   "outputs": [],
   "source": [
    "array = np.array([[1],[1],[1],[1],[1]])"
   ]
  },
  {
   "cell_type": "code",
   "execution_count": 25,
   "id": "6bc49dca-97b3-49d3-b4d5-7470d3ed9d7b",
   "metadata": {},
   "outputs": [
    {
     "data": {
      "text/plain": [
       "array([1])"
      ]
     },
     "execution_count": 25,
     "metadata": {},
     "output_type": "execute_result"
    }
   ],
   "source": [
    "np.diag(array)"
   ]
  },
  {
   "cell_type": "code",
   "execution_count": null,
   "id": "788f1ecc-acd5-42b4-90f3-cc048e9209ef",
   "metadata": {},
   "outputs": [],
   "source": []
  }
 ],
 "metadata": {
  "kernelspec": {
   "display_name": "Python 3 (ipykernel)",
   "language": "python",
   "name": "python3"
  },
  "language_info": {
   "codemirror_mode": {
    "name": "ipython",
    "version": 3
   },
   "file_extension": ".py",
   "mimetype": "text/x-python",
   "name": "python",
   "nbconvert_exporter": "python",
   "pygments_lexer": "ipython3",
   "version": "3.10.8"
  }
 },
 "nbformat": 4,
 "nbformat_minor": 5
}
